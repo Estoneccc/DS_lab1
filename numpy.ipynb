{
 "nbformat": 4,
 "nbformat_minor": 0,
 "metadata": {
  "colab": {
   "provenance": []
  },
  "kernelspec": {
   "name": "python3",
   "display_name": "Python 3"
  },
  "language_info": {
   "name": "python"
  }
 },
 "cells": [
  {
   "cell_type": "markdown",
   "source": [
    "<h1>Импорт библиотек"
   ],
   "metadata": {
    "id": "vC84e9kzyxPy"
   }
  },
  {
   "cell_type": "code",
   "metadata": {
    "id": "cgKeNegmQG5S",
    "jupyter": {
     "is_executing": true
    }
   },
   "source": [
    "import numpy as np\n",
    "import matplotlib.pyplot as plt"
   ],
   "outputs": [],
   "execution_count": null
  },
  {
   "cell_type": "markdown",
   "source": [
    "<h1>Задача 1. Дан набор из $p$ матриц размерностью $(n, n)$ и $p$ векторов размерностью $(n, 1)$, найти сумму произведений матриц на векторы. Написать тесты для кода"
   ],
   "metadata": {
    "id": "qFM9uVU2x4Ls"
   }
  },
  {
   "cell_type": "code",
   "source": [
    "def sum_prod(X, V):\n",
    "    '''\n",
    "    X - матрицы (n, n)\n",
    "    V - векторы (n, 1)\n",
    "    Гарантируется, что len(X) == len(V)\n",
    "    '''\n",
    "    result = np.zeros_like(V[0])\n",
    "\n",
    "    for matrix, vector in zip(X, V):\n",
    "        result += np.dot(matrix, vector)\n",
    "\n",
    "    return result\n",
    "\n",
    "def test_sum_prod():\n",
    "    \n",
    "    # Пример 1\n",
    "    matrices = [\n",
    "        np.array([[1, 2], [3, 4]]),\n",
    "        np.array([[5, 6], [7, 8]])\n",
    "    ]\n",
    "    vectors = [\n",
    "        np.array([[1], [1]]),\n",
    "        np.array([[2], [2]])\n",
    "    ]\n",
    "    \n",
    "    expected_result = np.array([[27], [38]])\n",
    "    result = sum_prod(matrices, vectors)\n",
    "    assert np.array_equal(result, expected_result), \"Тест 1 провален\"\n",
    "\n",
    "    # Пример 2\n",
    "    matrices = [\n",
    "        np.array([[1, 0], [0, 1]]),\n",
    "        np.array([[2, 2], [2, 2]])\n",
    "    ]\n",
    "    vectors = [\n",
    "        np.array([[1], [2]]),\n",
    "        np.array([[3], [4]])\n",
    "    ]\n",
    "    \n",
    "    expected_result = np.array([[13], [14]])\n",
    "    result = sum_prod(matrices, vectors)\n",
    "    assert np.array_equal(result, expected_result), \"Тест 2 провален\"\n",
    "\n",
    "    matrices = [\n",
    "        np.array([[1, 2], [3, 4]]),\n",
    "        np.array([[5, 6], [7, 8]])\n",
    "    ]\n",
    "    vectors = [\n",
    "        np.array([[0], [0]]),\n",
    "        np.array([[0], [0]])\n",
    "    ]\n",
    "    \n",
    "    expected_result = np.array([[0], [0]])\n",
    "    result = sum_prod(matrices, vectors)\n",
    "    assert np.array_equal(result, expected_result), \"Тест 3 провален\"\n",
    "\n",
    "    print(\"Все тесты пройдены!\")\n",
    "\n",
    "test_sum_prod()"
   ],
   "metadata": {
    "id": "IAbUvEiYyWFF"
   },
   "execution_count": null,
   "outputs": []
  },
  {
   "cell_type": "markdown",
   "source": [
    "<h1>Задача 2. Дана матрица M, напишите функцию, которая бинаризует матрицу по некоторому threshold (то есть, все значения большие threshold становятся равными 1, иначе 0). Напишите тесты для кода"
   ],
   "metadata": {
    "id": "TKwPG4fIy2w4"
   }
  },
  {
   "cell_type": "code",
   "source": [
    "def binarize(M, threshold=0.5):\n",
    "    '''\n",
    "    Бинаризует матрицу M по заданному порогу threshold.\n",
    "    \n",
    "    Parameters:\n",
    "    M : np.ndarray\n",
    "        Входная матрица.\n",
    "    threshold : float\n",
    "        Пороговое значение для бинаризации.\n",
    "        \n",
    "    Returns:\n",
    "    np.ndarray\n",
    "        Бинаризованная матрица.\n",
    "    '''\n",
    "    return (M > threshold).astype(int)\n",
    "\n",
    "# Тесты для функции\n",
    "def test_binarize():\n",
    "    # Пример 1\n",
    "    M1 = np.array([[0.1, 0.6], [0.4, 0.8]])\n",
    "    expected_result1 = np.array([[0, 1], [0, 1]])\n",
    "    result1 = binarize(M1, threshold=0.5)\n",
    "    assert np.array_equal(result1, expected_result1), \"Тест 1 провален\"\n",
    "\n",
    "    # Пример 2\n",
    "    M2 = np.array([[0.5, 0.5], [0.5, 0.5]])\n",
    "    expected_result2 = np.array([[0, 0], [0, 0]])\n",
    "    result2 = binarize(M2, threshold=0.5)\n",
    "    assert np.array_equal(result2, expected_result2), \"Тест 2 провален\"\n",
    "\n",
    "    # Пример 3\n",
    "    M3 = np.array([[1.0, 0.0], [-0.5, 0.7]])\n",
    "    expected_result3 = np.array([[1, 0], [0, 1]])\n",
    "    result3 = binarize(M3, threshold=0)\n",
    "    assert np.array_equal(result3, expected_result3), \"Тест 3 провален\"\n",
    "\n",
    "    # Пример 4 (проверка на пустой массив)\n",
    "    M4 = np.array([[]])\n",
    "    expected_result4 = np.array([[]])\n",
    "    result4 = binarize(M4, threshold=0.5)\n",
    "    assert np.array_equal(result4, expected_result4), \"Тест 4 провален\"\n",
    "\n",
    "    print(\"Все тесты пройдены!\")\n",
    "\n",
    "test_binarize()\n"
   ],
   "metadata": {
    "id": "KQDNMgsjRNH7"
   },
   "execution_count": null,
   "outputs": []
  },
  {
   "cell_type": "markdown",
   "source": [
    "<h1>Задача 3. Напишите функцию, которая возвращает уникальные элементы из каждой строки матрицы. Напишите такую же функцию, но для столбцов. Напишите тесты для кода"
   ],
   "metadata": {
    "id": "IY5L-h-7zWhN"
   }
  },
  {
   "cell_type": "code",
   "source": [
    "def unique_rows(mat):\n",
    "    '''\n",
    "    Возвращает уникальные элементы из каждой строки матрицы.\n",
    "    \n",
    "    Parameters:\n",
    "    mat : np.ndarray\n",
    "        Входная матрица.\n",
    "        \n",
    "    Returns:\n",
    "    list of np.ndarray\n",
    "        Список массивов с уникальными элементами для каждой строки.\n",
    "    '''\n",
    "    return [np.unique(row) for row in mat]\n",
    "\n",
    "def unique_columns(mat):\n",
    "    '''\n",
    "    Возвращает уникальные элементы из каждого столбца матрицы.\n",
    "    \n",
    "    Parameters:\n",
    "    mat : np.ndarray\n",
    "        Входная матрица.\n",
    "        \n",
    "    Returns:\n",
    "    list of np.ndarray\n",
    "        Список массивов с уникальными элементами для каждого столбца.\n",
    "    '''\n",
    "    return [np.unique(mat[:, col]) for col in range(mat.shape[1])]\n",
    "\n",
    "# Тесты для функций\n",
    "def test_unique_functions():\n",
    "    # Пример матрицы\n",
    "    mat = np.array([[1, 2, 2], \n",
    "                    [3, 2, 1], \n",
    "                    [1, 4, 4]])\n",
    "\n",
    "    # Ожидаемые результаты\n",
    "    expected_unique_rows = [np.array([1, 2]), np.array([1, 2, 3]), np.array([1, 4])]\n",
    "    expected_unique_columns = [np.array([1, 3]), np.array([2, 4])]\n",
    "\n",
    "    # Проверка уникальных строк\n",
    "    result_rows = unique_rows(mat)\n",
    "    for i in range(len(result_rows)):\n",
    "        assert np.array_equal(result_rows[i], expected_unique_rows[i]), f\"Тест для строк {i + 1} провален\"\n",
    "\n",
    "    # Проверка уникальных столбцов\n",
    "    result_columns = unique_columns(mat)\n",
    "    for i in range(len(result_columns)):\n",
    "        assert np.array_equal(result_columns[i], expected_unique_columns[i]), f\"Тест для столбцов {i + 1} провален\"\n",
    "\n",
    "    print(\"Все тесты пройдены!\")\n",
    "\n",
    "test_unique_functions()"
   ],
   "metadata": {
    "id": "-8dEZhR0SBC-"
   },
   "execution_count": null,
   "outputs": []
  },
  {
   "cell_type": "markdown",
   "source": [
    "<h1>Задача 4. Напишите функцию, которая заполняет матрицу с размерами $(m, n)$ случайными числами, распределенными по нормальному закону. Затем считает мат. ожидание и дисперсию для каждого из столбцов и строк, а также строит для каждой строки и столбца гистограмму значений (использовать функцию hist из модуля matplotlib.plot)"
   ],
   "metadata": {
    "id": "roYAlo4Jz-lH"
   }
  },
  {
   "cell_type": "code",
   "source": [
    "def generate_matrix(m, n):\n",
    "    '''\n",
    "    Генерирует матрицу размером (m, n) с случайными числами, распределенными по нормальному закону.\n",
    "    \n",
    "    Parameters:\n",
    "    m : int\n",
    "        Количество строк.\n",
    "    n : int\n",
    "        Количество столбцов.\n",
    "        \n",
    "    Returns:\n",
    "    np.ndarray\n",
    "        Сгенерированная матрица.\n",
    "    '''\n",
    "    return np.random.normal(loc=0, scale=1, size=(m, n))\n",
    "\n",
    "def calculate_statistics(mat):\n",
    "    '''\n",
    "    Вычисляет мат. ожидание и дисперсию для каждой строки и столбца матрицы.\n",
    "    \n",
    "    Parameters:\n",
    "    mat : np.ndarray\n",
    "        Входная матрица.\n",
    "        \n",
    "    Returns:\n",
    "    dict\n",
    "        Словарь с мат. ожиданием и дисперсией для строк и столбцов.\n",
    "    '''\n",
    "    row_means = np.mean(mat, axis=1)\n",
    "    row_variances = np.var(mat, axis=1)\n",
    "    \n",
    "    col_means = np.mean(mat, axis=0)\n",
    "    col_variances = np.var(mat, axis=0)\n",
    "    \n",
    "    return {\n",
    "        'row_means': row_means,\n",
    "        'row_variances': row_variances,\n",
    "        'col_means': col_means,\n",
    "        'col_variances': col_variances\n",
    "    }\n",
    "\n",
    "def plot_histograms(mat):\n",
    "    '''\n",
    "    Строит гистограммы значений для каждой строки и столбца матрицы.\n",
    "    \n",
    "    Parameters:\n",
    "    mat : np.ndarray\n",
    "        Входная матрица.\n",
    "    '''\n",
    "    for i in range(mat.shape[0]):\n",
    "        plt.figure(figsize=(10, 4))\n",
    "        plt.hist(mat[i], bins=10, alpha=0.7, color='blue')\n",
    "        plt.title(f'Гистограмма для строки {i + 1}')\n",
    "        plt.xlabel('Значения')\n",
    "        plt.ylabel('Частота')\n",
    "        plt.grid(True)\n",
    "        plt.show()\n",
    "    \n",
    "    for j in range(mat.shape[1]):\n",
    "        plt.figure(figsize=(10, 4))\n",
    "        plt.hist(mat[:, j], bins=10, alpha=0.7, color='green')\n",
    "        plt.title(f'Гистограмма для столбца {j + 1}')\n",
    "        plt.xlabel('Значения')\n",
    "        plt.ylabel('Частота')\n",
    "        plt.grid(True)\n",
    "        plt.show()\n",
    "\n",
    "m, n = 5, 3\n",
    "matrix = generate_matrix(m, n)\n",
    "statistics = calculate_statistics(matrix)\n",
    "\n",
    "print(\"Матрица:\")\n",
    "print(matrix)\n",
    "print(\"nСтатистика:\")\n",
    "print(statistics)\n",
    "\n",
    "plot_histograms(matrix)"
   ],
   "metadata": {
    "id": "nZK_71hMSQzv"
   },
   "execution_count": null,
   "outputs": []
  },
  {
   "cell_type": "markdown",
   "source": [
    "<h1>Задача 5. Напишите функцию, которая заполняет матрицу $(m, n)$ в шахматном порядке заданными числами $a$ и $b$. Напишите тесты для кода"
   ],
   "metadata": {
    "id": "BDyATNdM0dJ2"
   }
  },
  {
   "cell_type": "code",
   "source": [
    "def chess(m, n, a, b):\n",
    "    '''\n",
    "    Заполняет матрицу размером (m, n) в шахматном порядке числами a и b.\n",
    "    \n",
    "    Parameters:\n",
    "    m : int\n",
    "        Количество строк.\n",
    "    n : int\n",
    "        Количество столбцов.\n",
    "    a : any\n",
    "        Значение для \"черных\" клеток.\n",
    "    b : any\n",
    "        Значение для \"белых\" клеток.\n",
    "        \n",
    "    Returns:\n",
    "    list\n",
    "        Заполненная матрица.\n",
    "    '''\n",
    "    matrix = [[0] * n for _ in range(m)]\n",
    "\n",
    "    for i in range(m):\n",
    "        for j in range(n):\n",
    "            if (i + j) % 2 == 0:\n",
    "                matrix[i][j] = a\n",
    "            else:\n",
    "                matrix[i][j] = b\n",
    "\n",
    "    return matrix\n",
    "\n",
    "def test_chess():\n",
    "    assert chess(2, 2, 1, 0) == [[1, 0], [0, 1]], \"Тест 1 не пройден\"\n",
    "    assert chess(3, 3, 'X', 'O') == [['X', 'O', 'X'], ['O', 'X', 'O'], ['X', 'O', 'X']], \"Тест 2 не пройден\"\n",
    "    assert chess(4, 4, 5, 10) == [[5, 10, 5, 10], [10, 5, 10, 5], [5, 10, 5, 10], [10, 5, 10, 5]], \"Тест 3 не пройден\"\n",
    "    assert chess(1, 5, 'A', 'B') == [['A', 'B', 'A', 'B', 'A']], \"Тест 4 не пройден\"\n",
    "    assert chess(5, 1, True, False) == [[True], [False], [True], [False], [True]], \"Тест 5 не пройден\"\n",
    "    \n",
    "    print(\"Все тесты пройдены!\")\n",
    "\n",
    "test_chess()"
   ],
   "metadata": {
    "id": "RWNJYWQGecS6"
   },
   "execution_count": null,
   "outputs": []
  },
  {
   "cell_type": "markdown",
   "source": [
    "<h1>Задача 6. Напишите функцию, которая отрисовывает прямоугольник с заданными размерами (a, b) на изображении размера (m, n), цвет фона задайте в схеме RGB, как и цвет прямоугольника. Цвета также должны быть параметрами функции. Напишите аналогичную функцию но для овала с полуосями a и b. Напишите тесты для кода.\n",
    "Примечание: уравнение эллипса (границы овала) можно записать как:\n",
    "<h1>$\\frac{(x-x_0)^2}{a^2}+\\frac{(y-y_0)^2}{b^2}=1$"
   ],
   "metadata": {
    "id": "-ymXLtTN0vB6"
   }
  },
  {
   "cell_type": "code",
   "source": [
    "def draw_rectangle(a, b, m, n, rectangle_color, background_color):\n",
    "    \"\"\"\n",
    "    Отрисовывает прямоугольник на изображении заданного размера.\n",
    "    \n",
    "    Parameters:\n",
    "    a : int\n",
    "        Ширина прямоугольника.\n",
    "    b : int\n",
    "        Высота прямоугольника.\n",
    "    m : int\n",
    "        Высота изображения.\n",
    "    n : int\n",
    "        Ширина изображения.\n",
    "    rectangle_color : tuple\n",
    "        Цвет прямоугольника в формате RGB.\n",
    "    background_color : tuple\n",
    "        Цвет фона в формате RGB.\n",
    "        \n",
    "    Returns:\n",
    "    Image\n",
    "        Изображение с нарисованным прямоугольником.\n",
    "    \"\"\"\n",
    "    image = Image.new(\"RGB\", (n, m), background_color)\n",
    "    draw = ImageDraw.Draw(image)\n",
    "    \n",
    "    top_left = (0, 0)\n",
    "    bottom_right = (a, b)\n",
    "    \n",
    "    draw.rectangle([top_left, bottom_right], fill=rectangle_color)\n",
    "\n",
    "    return image\n",
    "\n",
    "def draw_ellipse(a, b, m, n, ellipse_color, background_color):\n",
    "    \"\"\"\n",
    "    Отрисовывает овал на изображении заданного размера.\n",
    "    \n",
    "    Parameters:\n",
    "    a : int\n",
    "        Полуось по горизонтали.\n",
    "    b : int\n",
    "        Полуось по вертикали.\n",
    "    m : int\n",
    "        Высота изображения.\n",
    "    n : int\n",
    "        Ширина изображения.\n",
    "    ellipse_color : tuple\n",
    "        Цвет овала в формате RGB.\n",
    "    background_color : tuple\n",
    "        Цвет фона в формате RGB.\n",
    "        \n",
    "    Returns:\n",
    "    Image\n",
    "        Изображение с нарисованным овальным.\n",
    "    \"\"\"\n",
    "    image = Image.new(\"RGB\", (n, m), background_color)\n",
    "    draw = ImageDraw.Draw(image)\n",
    "    \n",
    "    top_left = (n//2 - a//2, m//2 - b//2)\n",
    "    bottom_right = (n//2 + a//2, m//2 + b//2)\n",
    "    \n",
    "    draw.ellipse([top_left, bottom_right], fill=ellipse_color)\n",
    "\n",
    "    return image\n",
    "\n",
    "def test_shapes():\n",
    "    rect_image = draw_rectangle(100, 50, 200, 200, (255, 0, 0), (255, 255, 255))\n",
    "    rect_image.save(\"rectangle_test.png\")\n",
    "    \n",
    "    ellipse_image = draw_ellipse(100, 50, 200, 200, (0, 255, 0), (255, 255, 255))\n",
    "    ellipse_image.save(\"ellipse_test.png\")\n",
    "    \n",
    "    print(\"Тесты завершены! Проверьте сохраненные изображения.\")\n",
    "\n",
    "test_shapes()"
   ],
   "metadata": {
    "id": "sNfl1t_kfOF4"
   },
   "execution_count": 1,
   "outputs": []
  },
  {
   "cell_type": "markdown",
   "source": [
    "<h1>Задача 7. Дан некий временной ряд. Для данного ряда нужно найти его: математическое ожидание, дисперсию, СКО, найти все локальные максимумы и минимумы (локальный максимум - это точка, которая больше своих соседних точек, а локальный минимум - это точка, которая меньше своих соседей), а также вычислить для данного ряда другой ряд, получаемый методом скользящего среднего с размером окна $p$.\n",
    "<h1>Примечание: метод скользящего среднего подразумевает нахождение среднего из подмножетсва ряда размером $p$"
   ],
   "metadata": {
    "id": "S82c38oz244H"
   }
  },
  {
   "cell_type": "code",
   "source": [
    "def analyze_time_series(data, p):\n",
    "    data = np.array(data)\n",
    "\n",
    "    mean = np.mean(data)\n",
    "    \n",
    "    variance = np.var(data)\n",
    "    std_dev = np.std(data)\n",
    "\n",
    "    local_maxima = (data[1:-1] > data[:-2]) & (data[1:-1] > data[2:])\n",
    "    local_minima = (data[1:-1] < data[:-2]) & (data[1:-1] < data[2:])\n",
    "    \n",
    "    local_maxima_indices = np.where(local_maxima)[0] + 1\n",
    "    local_minima_indices = np.where(local_minima)[0] + 1\n",
    "\n",
    "    rolling_mean = pd.Series(data).rolling(window=p).mean().to_numpy()\n",
    "\n",
    "    print(f\"Математическое ожидание: {mean}\")\n",
    "    print(f\"Дисперсия: {variance}\")\n",
    "    print(f\"Стандартное отклонение: {std_dev}\")\n",
    "    print(f\"Локальные максимумы (индексы): {local_maxima_indices}\")\n",
    "    print(f\"Локальные минимумы (индексы): {local_minima_indices}\")\n",
    "    \n",
    "    return rolling_mean\n",
    "\n",
    "time_series_data = [1, 3, 2, 5, 4, 6, 3, 7, 5, 8, 6]\n",
    "window_size = 3\n",
    "\n",
    "rolling_mean_result = analyze_time_series(time_series_data, window_size)\n",
    "\n",
    "plt.figure(figsize=(12, 6))\n",
    "plt.plot(time_series_data, label='Исходный ряд', marker='o')\n",
    "plt.plot(rolling_mean_result, label='Скользящее среднее', marker='x')\n",
    "plt.scatter(np.arange(len(time_series_data))[np.where((np.array(time_series_data)[1:-1] > np.array(time_series_data)[:-2]) & (np.array(time_series_data)[1:-1] > np.array(time_series_data)[2:]))[0] + 1], time_series_data[np.where((np.array(time_series_data)[1:-1] > np.array(time_series_data)[:-2]) & (np.array(time_series_data)[1:-1] > np.array(time_series_data)[2:]))[0] + 1], color='red')\n",
    "plt.scatter(np.arange(len(time_series_data))[np.where((np.array(time_series_data)[1:-1] < np.array(time_series_data)[:-2]) & (np.array(time_series_data)[1:-1] < np.array(time_series_data)[2:]))[0] + 1], time_series_data[np.where((np.array(time_series_data)[1:-1] < np.array(time_series_data)[:-2]) & (np.array(time_series_data)[1:-1] < np.array(time_series_data)[2:]))[0] + 1], color='blue')\n",
    "plt.title('Анализ временного ряда')\n",
    "plt.xlabel('Индекс')\n",
    "plt.ylabel('Значение')\n",
    "plt.legend()\n",
    "plt.grid()\n",
    "plt.show()"
   ],
   "metadata": {
    "id": "Zb9mIVge5MMt"
   },
   "execution_count": null,
   "outputs": []
  },
  {
   "cell_type": "markdown",
   "source": [
    "<h1> Задача 8. Дан некоторый вектор с целочисленными метками классов, напишите функцию, которая выполняет one-hot-encoding для данного вектора\n",
    "<h1> One-hot-encoding - представление, в котором на месте метки некоторого класса стоит 1, в остальных позициях стоит 0. Например для вектора [0, 2, 3, 0] one-hot-encoding выглядит как: [[1, 0, 0, 0], [0, 0, 1, 0], [0, 0, 0, 1], [1, 0, 0, 0]]"
   ],
   "metadata": {
    "id": "jPkylmOX5O9n"
   }
  },
  {
   "cell_type": "code",
   "source": [
    "def one_hot_encoding(labels):\n",
    "    num_classes = np.max(labels) + 1\n",
    "    one_hot_matrix = np.zeros((len(labels), num_classes), dtype=int)\n",
    "    \n",
    "    for idx, label in enumerate(labels):\n",
    "        one_hot_matrix[idx, label] = 1\n",
    "        \n",
    "    return one_hot_matrix\n",
    "\n",
    "labels = [0, 2, 3, 0]\n",
    "one_hot_result = one_hot_encoding(labels)\n",
    "\n",
    "print(one_hot_result)"
   ],
   "metadata": {
    "id": "Y-jlnZvw56lD"
   },
   "execution_count": null,
   "outputs": []
  }
 ]
}

{
 "nbformat": 4,
 "nbformat_minor": 0,
 "metadata": {
  "colab": {
   "provenance": []
  },
  "kernelspec": {
   "name": "python3",
   "display_name": "Python 3"
  },
  "language_info": {
   "name": "python"
  }
 },
 "cells": [
  {
   "cell_type": "markdown",
   "source": [
    "#Задача 1\n",
    "Написать функцию на вход которой подается строка, состоящая из латинских букв.\n",
    "Функция должна вернуть количество гласных букв (a, e, i, o, u) в этой строке. Написать тесты для кода"
   ],
   "metadata": {
    "id": "M-DGa20PaHnu"
   }
  },
  {
   "cell_type": "code",
   "source": [
    "def count_vowels(s: str) -> int:\n",
    "    vowels = 'aeiouAEIOU'\n",
    "    return sum(1 for char in s if char in vowels)\n",
    "\n",
    "def test_count_vowels():\n",
    "    assert count_vowels(\"hello\") == 2, \"Тест 1 провален\"\n",
    "    assert count_vowels(\"world\") == 1, \"Тест 2 провален\"\n",
    "    assert count_vowels(\"python\") == 1, \"Тест 3 провален\"\n",
    "    assert count_vowels(\"aeiou\") == 5, \"Тест 4 провален\"\n",
    "    assert count_vowels(\"\") == 0, \"Тест 5 провален\"\n",
    "    assert count_vowels(\"BCDFG\") == 0, \"Тест 6 провален\"\n",
    "    assert count_vowels(\"aAeEiIoOuU\") == 10, \"Тест 7 провален\"\n",
    "\n",
    "    print(\"Все тесты пройдены!\")\n",
    "\n",
    "test_count_vowels()"
   ],
   "metadata": {
    "id": "XvX8X_JJ6PCb"
   },
   "execution_count": null,
   "outputs": []
  },
  {
   "cell_type": "markdown",
   "source": [
    "# Задача 2\n",
    "Написать функцию на вход, которой подается строка. Функция должна вернуть true, если\n",
    "каждый символ в строке встречается только 1 раз, иначе должна вернуть false. Написать тесты для кода"
   ],
   "metadata": {
    "id": "t2ClV_Y0bbr6"
   }
  },
  {
   "cell_type": "code",
   "source": [
    "def has_unique_characters(s: str) -> bool:\n",
    "    return len(set(s)) == len(s)\n",
    "\n",
    "def test_has_unique_characters():\n",
    "    assert has_unique_characters(\"abcde\") == True, \"Тест 1 провален\"\n",
    "    assert has_unique_characters(\"hello\") == False, \"Тест 2 провален\"\n",
    "    assert has_unique_characters(\"world\") == True, \"Тест 3 провален\"\n",
    "    assert has_unique_characters(\"Python\") == True, \"Тест 4 провален\"\n",
    "    assert has_unique_characters(\"aA\") == True, \"Тест 5 провален\"\n",
    "    assert has_unique_characters(\"\") == True, \"Тест 6 провален\"\n",
    "    assert has_unique_characters(\"12345\") == True, \"Тест 7 провален\"\n",
    "    assert has_unique_characters(\"112233\") == False, \"Тест 8 провален\"\n",
    "\n",
    "    print(\"Все тесты пройдены!\")\n",
    "\n",
    "test_has_unique_characters()"
   ],
   "metadata": {
    "id": "FppbECao6VIz"
   },
   "execution_count": null,
   "outputs": []
  },
  {
   "cell_type": "markdown",
   "source": [
    "# Задача 3\n",
    "Написать функцию, которая принимает положительное число и возвращает количество\n",
    "бит равных 1 в этом числе. Написать тесты для кода"
   ],
   "metadata": {
    "id": "udRiIK1cdt6E"
   }
  },
  {
   "cell_type": "code",
   "source": [
    "def count_bits(n: int) -> int:\n",
    "    if n < 0:\n",
    "        raise ValueError(\"Число должно быть положительным.\")\n",
    "    return bin(n).count('1')\n",
    "\n",
    "def test_count_bits():\n",
    "    assert count_bits(0) == 0, \"Тест 1 провален\"\n",
    "    assert count_bits(1) == 1, \"Тест 2 провален\"\n",
    "    assert count_bits(2) == 1, \"Тест 3 провален\"\n",
    "    assert count_bits(3) == 2, \"Тест 4 провален\"\n",
    "    assert count_bits(5) == 2, \"Тест 5 провален\"\n",
    "    assert count_bits(15) == 4, \"Тест 6 провален\"\n",
    "    assert count_bits(255) == 8, \"Тест 7 провален\"\n",
    "\n",
    "    print(\"Все тесты пройдены!\")\n",
    "\n",
    "test_count_bits()"
   ],
   "metadata": {
    "id": "6tkfDJRz6dp_"
   },
   "execution_count": null,
   "outputs": []
  },
  {
   "cell_type": "markdown",
   "source": [
    "# Задача 4\n",
    "Написать функцию, которая принимает положительное число. Функция должна вернуть то,\n",
    "сколько раз необходимо перемножать цифры числа или результат перемножения, чтобы\n",
    "получилось число состоящее из одной цифры.\n",
    "Например, для входного числа:\n",
    "· 39 функция должна вернуть 3, так как 3*9=27 => 2*7=14 => 1*4=4\n",
    "· 4 функция должна вернуть 0, так как число уже состоит из одной цифры\n",
    "· 999 функция должна вернуть 4, так как 9*9*9=729 => 7*2*9=126 => 1*2*6=12 =>\n",
    "1*2=2. Написать тесты для кода"
   ],
   "metadata": {
    "id": "26dDUz-Ae17N"
   }
  },
  {
   "cell_type": "code",
   "source": [
    "def multiply_digits_until_single_digit(n: int) -> int:\n",
    "    if n < 10:\n",
    "        return 0\n",
    "\n",
    "    count = 0\n",
    "    \n",
    "    while n >= 10:\n",
    "        product = 1\n",
    "        while n > 0:\n",
    "            product *= n % 10\n",
    "            n //= 10\n",
    "        n = product\n",
    "        count += 1\n",
    "\n",
    "    return count\n",
    "\n",
    "def test_multiply_digits_until_single_digit():\n",
    "    assert multiply_digits_until_single_digit(39) == 3, \"Тест 1 провален\"\n",
    "    assert multiply_digits_until_single_digit(4) == 0, \"Тест 2 провален\"\n",
    "    assert multiply_digits_until_single_digit(999) == 4, \"Тест 3 провален\" \n",
    "    assert multiply_digits_until_single_digit(10) == 1, \"Тест 4 провален\"\n",
    "    assert multiply_digits_until_single_digit(123) == 2, \"Тест 5 провален\"\n",
    "    assert multiply_digits_until_single_digit(38) == 3, \"Тест 6 провален\"\n",
    "    assert multiply_digits_until_single_digit(100) == 1, \"Тест 7 провален\"\n",
    "\n",
    "    print(\"Все тесты пройдены!\")\n",
    "\n",
    "test_multiply_digits_until_single_digit()"
   ],
   "metadata": {
    "id": "BH1A_Mgi6i4G"
   },
   "execution_count": null,
   "outputs": []
  },
  {
   "cell_type": "markdown",
   "source": [
    "# Задача 5\n",
    "Написать функцию, которая принимает два целочисленных вектора одинаковой длины и\n",
    "возвращает среднеквадратическое отклонение двух векторов. Написать тесты для кода"
   ],
   "metadata": {
    "id": "0nS-kIa8g8vd"
   }
  },
  {
   "cell_type": "code",
   "source": [
    "def rmsd(vector1: list[int], vector2: list[int]) -> float:\n",
    "    if len(vector1) != len(vector2):\n",
    "        raise ValueError(\"Векторы должны быть одинаковой длины\")\n",
    "\n",
    "    v1 = np.array(vector1)\n",
    "    v2 = np.array(vector2)\n",
    "\n",
    "    return np.sqrt(np.mean((v1 - v2) ** 2))\n",
    "\n",
    "def test_rmsd():\n",
    "    assert np.isclose(rmsd([1, 2, 3], [4, 5, 6]), 3.0), \"Тест 1 провален\"\n",
    "    assert np.isclose(rmsd([1, 1, 1], [1, 1, 1]), 0.0), \"Тест 2 провален\"\n",
    "    assert np.isclose(rmsd([0, 0, 0], [0, 0, 0]), 0.0), \"Тест 3 провален\"\n",
    "    assert np.isclose(rmsd([1, 2, 3], [1, 2, 3]), 0.0), \"Тест 4 провален\"\n",
    "    assert np.isclose(rmsd([1, -1, 2], [2, -2, 3]), 2.0), \"Тест 5 провален\"\n",
    "\n",
    "    print(\"Все тесты пройдены!\")\n",
    "\n",
    "test_rmsd()"
   ],
   "metadata": {
    "id": "8iphx4LM6xbx"
   },
   "execution_count": null,
   "outputs": []
  },
  {
   "cell_type": "markdown",
   "source": [
    "# Задача 6\n",
    "Написать функцию, принимающая целое положительное число. Функция должна вернуть\n",
    "строку вида “(n1**p1)(n2**p2)…(nk**pk)” представляющая разложение числа на простые\n",
    "множители (если pi == 1, то выводить только ni).\n",
    "Например, для числа 86240 функция должна вернуть “(2**5)(5)(7**2)(11)”. Написать тесты для кода"
   ],
   "metadata": {
    "id": "vpIPKL439zkw"
   }
  },
  {
   "cell_type": "code",
   "source": [
    "def prime_factors(n: int) -> str:\n",
    "    if n <= 0:\n",
    "        raise ValueError(\"Число должно быть положительным\")\n",
    "\n",
    "    factors = {}\n",
    "    divisor = 2\n",
    "\n",
    "    while n > 1:\n",
    "        while n % divisor == 0:\n",
    "            if divisor in factors:\n",
    "                factors[divisor] += 1\n",
    "            else:\n",
    "                factors[divisor] = 1\n",
    "            n //= divisor\n",
    "        divisor += 1\n",
    "\n",
    "    result = ''.join(f\"({p}\" + (f\"**{factors[p]})\" if factors[p] > 1 else \")\") for p in factors)\n",
    "    return result\n",
    "\n",
    "def test_prime_factors():\n",
    "    assert prime_factors(86240) == \"(2**5)(5)(7**2)(11)\", \"Тест 1 провален\"\n",
    "    assert prime_factors(28) == \"(2**2)(7)\", \"Тест 2 провален\"\n",
    "    assert prime_factors(60) == \"(2**2)(3)(5)\", \"Тест 3 провален\"\n",
    "    assert prime_factors(1) == \"\", \"Тест 4 провален\"\n",
    "    assert prime_factors(13) == \"(13)\", \"Тест 5 провален\"\n",
    "\n",
    "    print(\"Все тесты пройдены!\")\n",
    "\n",
    "test_prime_factors()"
   ],
   "metadata": {
    "id": "pFebmcZk94Jw"
   },
   "execution_count": null,
   "outputs": []
  },
  {
   "cell_type": "markdown",
   "source": [
    "# Задача 7\n",
    "Написать функцию, принимающая целое число n, задающее количество кубиков. Функция\n",
    "должна определить, можно ли из данного кол-ва кубиков построить пирамиду, то есть\n",
    "можно ли представить число n как 1^2+2^2+3^2+…+k^2. Если можно, то функция должна\n",
    "вернуть k, иначе строку “It is impossible”. Написать тесты для кода"
   ],
   "metadata": {
    "id": "ps2s0BudX7A2"
   }
  },
  {
   "cell_type": "code",
   "source": [
    "def can_build_pyramid(n: int) -> str:\n",
    "    if n < 0:\n",
    "        return \"It is impossible\"\n",
    "\n",
    "    k = 0\n",
    "    total_cubes = 0\n",
    "\n",
    "    while total_cubes < n:\n",
    "        k += 1\n",
    "        total_cubes += k ** 2\n",
    "\n",
    "    if total_cubes == n:\n",
    "        return k\n",
    "    else:\n",
    "        return \"It is impossible\"\n",
    "\n",
    "def test_can_build_pyramid():\n",
    "    assert can_build_pyramid(5) == \"It is impossible\", \"Тест 1 провален\"\n",
    "    assert can_build_pyramid(14) == 3, \"Тест 2 провален\"\n",
    "    assert can_build_pyramid(30) == \"It is impossible\", \"Тест 3 провален\"\n",
    "    assert can_build_pyramid(1) == 1, \"Тест 4 провален\"\n",
    "    assert can_build_pyramid(55) == 5, \"Тест 5 провален\"\n",
    "    assert can_build_pyramid(0) == \"It is impossible\", \"Тест 6 провален\"\n",
    "\n",
    "    print(\"Все тесты пройдены!\")\n",
    "\n",
    "test_can_build_pyramid()"
   ],
   "metadata": {
    "id": "3YPjEXxhX_YT"
   },
   "execution_count": null,
   "outputs": []
  },
  {
   "cell_type": "markdown",
   "source": [
    "# Задача 8\n",
    "Функция принимает на вход положительное число и определяет является ли оно сбалансированным, т.е. сумма цифр до средних равна сумме цифр после. Средними в случае нечетного числа цифр считать одну цифру, в случае четного - две средних. Написать тесты для кода"
   ],
   "metadata": {
    "id": "KeKgmIdAQMEJ"
   }
  },
  {
   "cell_type": "code",
   "source": [
    "def is_balanced_number(n: int) -> bool:\n",
    "    digits = str(n)\n",
    "    length = len(digits)\n",
    "\n",
    "    if length % 2 == 0:\n",
    "        mid1 = length // 2 - 1\n",
    "        mid2 = length // 2\n",
    "        left_sum = sum(int(digits[i]) for i in range(mid1 + 1))\n",
    "        right_sum = sum(int(digits[i]) for i in range(mid2, length))\n",
    "    else:\n",
    "        mid = length // 2\n",
    "        left_sum = sum(int(digits[i]) for i in range(mid))\n",
    "        right_sum = sum(int(digits[i]) for i in range(mid + 1, length))\n",
    "\n",
    "    return left_sum == right_sum\n",
    "\n",
    "def test_is_balanced_number():\n",
    "    assert is_balanced_number(123321) == True, \"Тест 1 провален\"\n",
    "    assert is_balanced_number(123456) == False, \"Тест 2 провален\"\n",
    "    assert is_balanced_number(12321) == True, \"Тест 3 провален\"\n",
    "    assert is_balanced_number(111) == True, \"Тест 4 провален\"\n",
    "    assert is_balanced_number(123) == False, \"Тест 5 провален\"\n",
    "    assert is_balanced_number(0) == False, \"Тест 6 провален\"\n",
    "\n",
    "    print(\"Все тесты пройдены!\")\n",
    "\n",
    "test_is_balanced_number()"
   ],
   "metadata": {
    "id": "gMAAqtqlQrZt"
   },
   "execution_count": null,
   "outputs": []
  }
 ]
}
